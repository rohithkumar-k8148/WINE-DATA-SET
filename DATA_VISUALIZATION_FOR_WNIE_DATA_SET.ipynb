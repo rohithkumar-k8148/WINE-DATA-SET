{
  "nbformat": 4,
  "nbformat_minor": 0,
  "metadata": {
    "colab": {
      "provenance": [],
      "authorship_tag": "ABX9TyMLm/9cvw3jrvutYSNQAzzj",
      "include_colab_link": true
    },
    "kernelspec": {
      "name": "python3",
      "display_name": "Python 3"
    },
    "language_info": {
      "name": "python"
    }
  },
  "cells": [
    {
      "cell_type": "markdown",
      "metadata": {
        "id": "view-in-github",
        "colab_type": "text"
      },
      "source": [
        "<a href=\"https://colab.research.google.com/github/rohithkumar-k8148/WINE-DATA-SET/blob/main/DATA_VISUALIZATION_FOR_WNIE_DATA_SET.ipynb\" target=\"_parent\"><img src=\"https://colab.research.google.com/assets/colab-badge.svg\" alt=\"Open In Colab\"/></a>"
      ]
    },
    {
      "cell_type": "code",
      "execution_count": null,
      "metadata": {
        "colab": {
          "base_uri": "https://localhost:8080/"
        },
        "id": "9AowRx9dUU1b",
        "outputId": "ca29c08c-ec05-42d3-eae9-847a71974324"
      },
      "outputs": [
        {
          "output_type": "stream",
          "name": "stdout",
          "text": [
            "       type  fixed acidity  volatile acidity  citric acid  residual sugar  \\\n",
            "0     white            7.0             0.270         0.36            20.7   \n",
            "1     white            6.3             0.300         0.34             1.6   \n",
            "2     white            8.1             0.280         0.40             6.9   \n",
            "3     white            7.2             0.230         0.32             8.5   \n",
            "4     white            7.2             0.230         0.32             8.5   \n",
            "...     ...            ...               ...          ...             ...   \n",
            "6492    red            6.2             0.600         0.08             2.0   \n",
            "6493    red            5.9             0.550         0.10             2.2   \n",
            "6494    red            6.3             0.510         0.13             2.3   \n",
            "6495    red            5.9             0.645         0.12             2.0   \n",
            "6496    red            6.0             0.310         0.47             3.6   \n",
            "\n",
            "      chlorides  free sulfur dioxide  total sulfur dioxide  density    pH  \\\n",
            "0         0.045                 45.0                 170.0  1.00100  3.00   \n",
            "1         0.049                 14.0                 132.0  0.99400  3.30   \n",
            "2         0.050                 30.0                  97.0  0.99510  3.26   \n",
            "3         0.058                 47.0                 186.0  0.99560  3.19   \n",
            "4         0.058                 47.0                 186.0  0.99560  3.19   \n",
            "...         ...                  ...                   ...      ...   ...   \n",
            "6492      0.090                 32.0                  44.0  0.99490  3.45   \n",
            "6493      0.062                 39.0                  51.0  0.99512  3.52   \n",
            "6494      0.076                 29.0                  40.0  0.99574  3.42   \n",
            "6495      0.075                 32.0                  44.0  0.99547  3.57   \n",
            "6496      0.067                 18.0                  42.0  0.99549  3.39   \n",
            "\n",
            "      sulphates  alcohol  quality  \n",
            "0          0.45      8.8        6  \n",
            "1          0.49      9.5        6  \n",
            "2          0.44     10.1        6  \n",
            "3          0.40      9.9        6  \n",
            "4          0.40      9.9        6  \n",
            "...         ...      ...      ...  \n",
            "6492       0.58     10.5        5  \n",
            "6493        NaN     11.2        6  \n",
            "6494       0.75     11.0        6  \n",
            "6495       0.71     10.2        5  \n",
            "6496       0.66     11.0        6  \n",
            "\n",
            "[6497 rows x 13 columns]\n"
          ]
        }
      ],
      "source": [
        "import matplotlib.pyplot as plt \n",
        "import numpy as np\n",
        "import pandas as pd\n",
        "\n",
        "df = pd.read_csv(\"winequalityrohith.csv\")\n",
        "print(df)\n",
        "\n",
        "\n"
      ]
    },
    {
      "cell_type": "code",
      "source": [
        "df.head(25)"
      ],
      "metadata": {
        "colab": {
          "base_uri": "https://localhost:8080/",
          "height": 894
        },
        "id": "eVmm-WVdopN4",
        "outputId": "2b5e584a-a75e-48eb-baab-6b65dd17263a"
      },
      "execution_count": null,
      "outputs": [
        {
          "output_type": "execute_result",
          "data": {
            "text/plain": [
              "     type  fixed acidity  volatile acidity  citric acid  residual sugar  \\\n",
              "0   white            7.0              0.27         0.36           20.70   \n",
              "1   white            6.3              0.30         0.34            1.60   \n",
              "2   white            8.1              0.28         0.40            6.90   \n",
              "3   white            7.2              0.23         0.32            8.50   \n",
              "4   white            7.2              0.23         0.32            8.50   \n",
              "5   white            8.1              0.28         0.40            6.90   \n",
              "6   white            6.2              0.32         0.16            7.00   \n",
              "7   white            7.0              0.27         0.36           20.70   \n",
              "8   white            6.3              0.30         0.34            1.60   \n",
              "9   white            8.1              0.22         0.43            1.50   \n",
              "10  white            8.1              0.27         0.41            1.45   \n",
              "11  white            8.6              0.23         0.40            4.20   \n",
              "12  white            7.9              0.18         0.37            1.20   \n",
              "13  white            6.6              0.16         0.40            1.50   \n",
              "14  white            8.3              0.42         0.62           19.25   \n",
              "15  white            6.6              0.17         0.38            1.50   \n",
              "16  white            6.3              0.48         0.04            1.10   \n",
              "17  white            NaN              0.66         0.48            1.20   \n",
              "18  white            7.4              0.34         0.42            1.10   \n",
              "19  white            6.5              0.31         0.14            7.50   \n",
              "20  white            6.2              0.66         0.48            1.20   \n",
              "21  white            6.4              0.31         0.38            2.90   \n",
              "22  white            6.8              0.26         0.42            1.70   \n",
              "23  white            7.6              0.67         0.14            1.50   \n",
              "24  white            6.6              0.27         0.41            1.30   \n",
              "\n",
              "    chlorides  free sulfur dioxide  total sulfur dioxide  density    pH  \\\n",
              "0       0.045                 45.0                 170.0   1.0010  3.00   \n",
              "1       0.049                 14.0                 132.0   0.9940  3.30   \n",
              "2       0.050                 30.0                  97.0   0.9951  3.26   \n",
              "3       0.058                 47.0                 186.0   0.9956  3.19   \n",
              "4       0.058                 47.0                 186.0   0.9956  3.19   \n",
              "5       0.050                 30.0                  97.0   0.9951  3.26   \n",
              "6       0.045                 30.0                 136.0   0.9949  3.18   \n",
              "7       0.045                 45.0                 170.0   1.0010  3.00   \n",
              "8       0.049                 14.0                 132.0   0.9940  3.30   \n",
              "9       0.044                 28.0                 129.0   0.9938  3.22   \n",
              "10      0.033                 11.0                  63.0   0.9908  2.99   \n",
              "11      0.035                 17.0                 109.0   0.9947  3.14   \n",
              "12      0.040                 16.0                  75.0   0.9920  3.18   \n",
              "13      0.044                 48.0                 143.0   0.9912  3.54   \n",
              "14      0.040                 41.0                 172.0   1.0002  2.98   \n",
              "15      0.032                 28.0                 112.0   0.9914  3.25   \n",
              "16      0.046                 30.0                  99.0   0.9928  3.24   \n",
              "17      0.029                 29.0                  75.0   0.9892  3.33   \n",
              "18      0.033                 17.0                 171.0   0.9917  3.12   \n",
              "19      0.044                 34.0                 133.0   0.9955  3.22   \n",
              "20      0.029                 29.0                  75.0   0.9892  3.33   \n",
              "21      0.038                 19.0                 102.0   0.9912  3.17   \n",
              "22      0.049                 41.0                 122.0   0.9930  3.47   \n",
              "23      0.074                 25.0                 168.0   0.9937  3.05   \n",
              "24      0.052                 16.0                 142.0   0.9951  3.42   \n",
              "\n",
              "    sulphates  alcohol  quality  \n",
              "0        0.45      8.8        6  \n",
              "1        0.49      9.5        6  \n",
              "2        0.44     10.1        6  \n",
              "3        0.40      9.9        6  \n",
              "4        0.40      9.9        6  \n",
              "5        0.44     10.1        6  \n",
              "6        0.47      9.6        6  \n",
              "7        0.45      8.8        6  \n",
              "8        0.49      9.5        6  \n",
              "9        0.45     11.0        6  \n",
              "10       0.56     12.0        5  \n",
              "11       0.53      9.7        5  \n",
              "12       0.63     10.8        5  \n",
              "13       0.52     12.4        7  \n",
              "14       0.67      9.7        5  \n",
              "15       0.55     11.4        7  \n",
              "16       0.36      9.6        6  \n",
              "17       0.39     12.8        8  \n",
              "18       0.53     11.3        6  \n",
              "19       0.50      9.5        5  \n",
              "20       0.39     12.8        8  \n",
              "21       0.35     11.0        7  \n",
              "22       0.48     10.5        8  \n",
              "23       0.51      9.3        5  \n",
              "24       0.47     10.0        6  "
            ],
            "text/html": [
              "\n",
              "  <div id=\"df-c5083ec3-1cef-4a9d-957c-5ad2143b31ef\">\n",
              "    <div class=\"colab-df-container\">\n",
              "      <div>\n",
              "<style scoped>\n",
              "    .dataframe tbody tr th:only-of-type {\n",
              "        vertical-align: middle;\n",
              "    }\n",
              "\n",
              "    .dataframe tbody tr th {\n",
              "        vertical-align: top;\n",
              "    }\n",
              "\n",
              "    .dataframe thead th {\n",
              "        text-align: right;\n",
              "    }\n",
              "</style>\n",
              "<table border=\"1\" class=\"dataframe\">\n",
              "  <thead>\n",
              "    <tr style=\"text-align: right;\">\n",
              "      <th></th>\n",
              "      <th>type</th>\n",
              "      <th>fixed acidity</th>\n",
              "      <th>volatile acidity</th>\n",
              "      <th>citric acid</th>\n",
              "      <th>residual sugar</th>\n",
              "      <th>chlorides</th>\n",
              "      <th>free sulfur dioxide</th>\n",
              "      <th>total sulfur dioxide</th>\n",
              "      <th>density</th>\n",
              "      <th>pH</th>\n",
              "      <th>sulphates</th>\n",
              "      <th>alcohol</th>\n",
              "      <th>quality</th>\n",
              "    </tr>\n",
              "  </thead>\n",
              "  <tbody>\n",
              "    <tr>\n",
              "      <th>0</th>\n",
              "      <td>white</td>\n",
              "      <td>7.0</td>\n",
              "      <td>0.27</td>\n",
              "      <td>0.36</td>\n",
              "      <td>20.70</td>\n",
              "      <td>0.045</td>\n",
              "      <td>45.0</td>\n",
              "      <td>170.0</td>\n",
              "      <td>1.0010</td>\n",
              "      <td>3.00</td>\n",
              "      <td>0.45</td>\n",
              "      <td>8.8</td>\n",
              "      <td>6</td>\n",
              "    </tr>\n",
              "    <tr>\n",
              "      <th>1</th>\n",
              "      <td>white</td>\n",
              "      <td>6.3</td>\n",
              "      <td>0.30</td>\n",
              "      <td>0.34</td>\n",
              "      <td>1.60</td>\n",
              "      <td>0.049</td>\n",
              "      <td>14.0</td>\n",
              "      <td>132.0</td>\n",
              "      <td>0.9940</td>\n",
              "      <td>3.30</td>\n",
              "      <td>0.49</td>\n",
              "      <td>9.5</td>\n",
              "      <td>6</td>\n",
              "    </tr>\n",
              "    <tr>\n",
              "      <th>2</th>\n",
              "      <td>white</td>\n",
              "      <td>8.1</td>\n",
              "      <td>0.28</td>\n",
              "      <td>0.40</td>\n",
              "      <td>6.90</td>\n",
              "      <td>0.050</td>\n",
              "      <td>30.0</td>\n",
              "      <td>97.0</td>\n",
              "      <td>0.9951</td>\n",
              "      <td>3.26</td>\n",
              "      <td>0.44</td>\n",
              "      <td>10.1</td>\n",
              "      <td>6</td>\n",
              "    </tr>\n",
              "    <tr>\n",
              "      <th>3</th>\n",
              "      <td>white</td>\n",
              "      <td>7.2</td>\n",
              "      <td>0.23</td>\n",
              "      <td>0.32</td>\n",
              "      <td>8.50</td>\n",
              "      <td>0.058</td>\n",
              "      <td>47.0</td>\n",
              "      <td>186.0</td>\n",
              "      <td>0.9956</td>\n",
              "      <td>3.19</td>\n",
              "      <td>0.40</td>\n",
              "      <td>9.9</td>\n",
              "      <td>6</td>\n",
              "    </tr>\n",
              "    <tr>\n",
              "      <th>4</th>\n",
              "      <td>white</td>\n",
              "      <td>7.2</td>\n",
              "      <td>0.23</td>\n",
              "      <td>0.32</td>\n",
              "      <td>8.50</td>\n",
              "      <td>0.058</td>\n",
              "      <td>47.0</td>\n",
              "      <td>186.0</td>\n",
              "      <td>0.9956</td>\n",
              "      <td>3.19</td>\n",
              "      <td>0.40</td>\n",
              "      <td>9.9</td>\n",
              "      <td>6</td>\n",
              "    </tr>\n",
              "    <tr>\n",
              "      <th>5</th>\n",
              "      <td>white</td>\n",
              "      <td>8.1</td>\n",
              "      <td>0.28</td>\n",
              "      <td>0.40</td>\n",
              "      <td>6.90</td>\n",
              "      <td>0.050</td>\n",
              "      <td>30.0</td>\n",
              "      <td>97.0</td>\n",
              "      <td>0.9951</td>\n",
              "      <td>3.26</td>\n",
              "      <td>0.44</td>\n",
              "      <td>10.1</td>\n",
              "      <td>6</td>\n",
              "    </tr>\n",
              "    <tr>\n",
              "      <th>6</th>\n",
              "      <td>white</td>\n",
              "      <td>6.2</td>\n",
              "      <td>0.32</td>\n",
              "      <td>0.16</td>\n",
              "      <td>7.00</td>\n",
              "      <td>0.045</td>\n",
              "      <td>30.0</td>\n",
              "      <td>136.0</td>\n",
              "      <td>0.9949</td>\n",
              "      <td>3.18</td>\n",
              "      <td>0.47</td>\n",
              "      <td>9.6</td>\n",
              "      <td>6</td>\n",
              "    </tr>\n",
              "    <tr>\n",
              "      <th>7</th>\n",
              "      <td>white</td>\n",
              "      <td>7.0</td>\n",
              "      <td>0.27</td>\n",
              "      <td>0.36</td>\n",
              "      <td>20.70</td>\n",
              "      <td>0.045</td>\n",
              "      <td>45.0</td>\n",
              "      <td>170.0</td>\n",
              "      <td>1.0010</td>\n",
              "      <td>3.00</td>\n",
              "      <td>0.45</td>\n",
              "      <td>8.8</td>\n",
              "      <td>6</td>\n",
              "    </tr>\n",
              "    <tr>\n",
              "      <th>8</th>\n",
              "      <td>white</td>\n",
              "      <td>6.3</td>\n",
              "      <td>0.30</td>\n",
              "      <td>0.34</td>\n",
              "      <td>1.60</td>\n",
              "      <td>0.049</td>\n",
              "      <td>14.0</td>\n",
              "      <td>132.0</td>\n",
              "      <td>0.9940</td>\n",
              "      <td>3.30</td>\n",
              "      <td>0.49</td>\n",
              "      <td>9.5</td>\n",
              "      <td>6</td>\n",
              "    </tr>\n",
              "    <tr>\n",
              "      <th>9</th>\n",
              "      <td>white</td>\n",
              "      <td>8.1</td>\n",
              "      <td>0.22</td>\n",
              "      <td>0.43</td>\n",
              "      <td>1.50</td>\n",
              "      <td>0.044</td>\n",
              "      <td>28.0</td>\n",
              "      <td>129.0</td>\n",
              "      <td>0.9938</td>\n",
              "      <td>3.22</td>\n",
              "      <td>0.45</td>\n",
              "      <td>11.0</td>\n",
              "      <td>6</td>\n",
              "    </tr>\n",
              "    <tr>\n",
              "      <th>10</th>\n",
              "      <td>white</td>\n",
              "      <td>8.1</td>\n",
              "      <td>0.27</td>\n",
              "      <td>0.41</td>\n",
              "      <td>1.45</td>\n",
              "      <td>0.033</td>\n",
              "      <td>11.0</td>\n",
              "      <td>63.0</td>\n",
              "      <td>0.9908</td>\n",
              "      <td>2.99</td>\n",
              "      <td>0.56</td>\n",
              "      <td>12.0</td>\n",
              "      <td>5</td>\n",
              "    </tr>\n",
              "    <tr>\n",
              "      <th>11</th>\n",
              "      <td>white</td>\n",
              "      <td>8.6</td>\n",
              "      <td>0.23</td>\n",
              "      <td>0.40</td>\n",
              "      <td>4.20</td>\n",
              "      <td>0.035</td>\n",
              "      <td>17.0</td>\n",
              "      <td>109.0</td>\n",
              "      <td>0.9947</td>\n",
              "      <td>3.14</td>\n",
              "      <td>0.53</td>\n",
              "      <td>9.7</td>\n",
              "      <td>5</td>\n",
              "    </tr>\n",
              "    <tr>\n",
              "      <th>12</th>\n",
              "      <td>white</td>\n",
              "      <td>7.9</td>\n",
              "      <td>0.18</td>\n",
              "      <td>0.37</td>\n",
              "      <td>1.20</td>\n",
              "      <td>0.040</td>\n",
              "      <td>16.0</td>\n",
              "      <td>75.0</td>\n",
              "      <td>0.9920</td>\n",
              "      <td>3.18</td>\n",
              "      <td>0.63</td>\n",
              "      <td>10.8</td>\n",
              "      <td>5</td>\n",
              "    </tr>\n",
              "    <tr>\n",
              "      <th>13</th>\n",
              "      <td>white</td>\n",
              "      <td>6.6</td>\n",
              "      <td>0.16</td>\n",
              "      <td>0.40</td>\n",
              "      <td>1.50</td>\n",
              "      <td>0.044</td>\n",
              "      <td>48.0</td>\n",
              "      <td>143.0</td>\n",
              "      <td>0.9912</td>\n",
              "      <td>3.54</td>\n",
              "      <td>0.52</td>\n",
              "      <td>12.4</td>\n",
              "      <td>7</td>\n",
              "    </tr>\n",
              "    <tr>\n",
              "      <th>14</th>\n",
              "      <td>white</td>\n",
              "      <td>8.3</td>\n",
              "      <td>0.42</td>\n",
              "      <td>0.62</td>\n",
              "      <td>19.25</td>\n",
              "      <td>0.040</td>\n",
              "      <td>41.0</td>\n",
              "      <td>172.0</td>\n",
              "      <td>1.0002</td>\n",
              "      <td>2.98</td>\n",
              "      <td>0.67</td>\n",
              "      <td>9.7</td>\n",
              "      <td>5</td>\n",
              "    </tr>\n",
              "    <tr>\n",
              "      <th>15</th>\n",
              "      <td>white</td>\n",
              "      <td>6.6</td>\n",
              "      <td>0.17</td>\n",
              "      <td>0.38</td>\n",
              "      <td>1.50</td>\n",
              "      <td>0.032</td>\n",
              "      <td>28.0</td>\n",
              "      <td>112.0</td>\n",
              "      <td>0.9914</td>\n",
              "      <td>3.25</td>\n",
              "      <td>0.55</td>\n",
              "      <td>11.4</td>\n",
              "      <td>7</td>\n",
              "    </tr>\n",
              "    <tr>\n",
              "      <th>16</th>\n",
              "      <td>white</td>\n",
              "      <td>6.3</td>\n",
              "      <td>0.48</td>\n",
              "      <td>0.04</td>\n",
              "      <td>1.10</td>\n",
              "      <td>0.046</td>\n",
              "      <td>30.0</td>\n",
              "      <td>99.0</td>\n",
              "      <td>0.9928</td>\n",
              "      <td>3.24</td>\n",
              "      <td>0.36</td>\n",
              "      <td>9.6</td>\n",
              "      <td>6</td>\n",
              "    </tr>\n",
              "    <tr>\n",
              "      <th>17</th>\n",
              "      <td>white</td>\n",
              "      <td>NaN</td>\n",
              "      <td>0.66</td>\n",
              "      <td>0.48</td>\n",
              "      <td>1.20</td>\n",
              "      <td>0.029</td>\n",
              "      <td>29.0</td>\n",
              "      <td>75.0</td>\n",
              "      <td>0.9892</td>\n",
              "      <td>3.33</td>\n",
              "      <td>0.39</td>\n",
              "      <td>12.8</td>\n",
              "      <td>8</td>\n",
              "    </tr>\n",
              "    <tr>\n",
              "      <th>18</th>\n",
              "      <td>white</td>\n",
              "      <td>7.4</td>\n",
              "      <td>0.34</td>\n",
              "      <td>0.42</td>\n",
              "      <td>1.10</td>\n",
              "      <td>0.033</td>\n",
              "      <td>17.0</td>\n",
              "      <td>171.0</td>\n",
              "      <td>0.9917</td>\n",
              "      <td>3.12</td>\n",
              "      <td>0.53</td>\n",
              "      <td>11.3</td>\n",
              "      <td>6</td>\n",
              "    </tr>\n",
              "    <tr>\n",
              "      <th>19</th>\n",
              "      <td>white</td>\n",
              "      <td>6.5</td>\n",
              "      <td>0.31</td>\n",
              "      <td>0.14</td>\n",
              "      <td>7.50</td>\n",
              "      <td>0.044</td>\n",
              "      <td>34.0</td>\n",
              "      <td>133.0</td>\n",
              "      <td>0.9955</td>\n",
              "      <td>3.22</td>\n",
              "      <td>0.50</td>\n",
              "      <td>9.5</td>\n",
              "      <td>5</td>\n",
              "    </tr>\n",
              "    <tr>\n",
              "      <th>20</th>\n",
              "      <td>white</td>\n",
              "      <td>6.2</td>\n",
              "      <td>0.66</td>\n",
              "      <td>0.48</td>\n",
              "      <td>1.20</td>\n",
              "      <td>0.029</td>\n",
              "      <td>29.0</td>\n",
              "      <td>75.0</td>\n",
              "      <td>0.9892</td>\n",
              "      <td>3.33</td>\n",
              "      <td>0.39</td>\n",
              "      <td>12.8</td>\n",
              "      <td>8</td>\n",
              "    </tr>\n",
              "    <tr>\n",
              "      <th>21</th>\n",
              "      <td>white</td>\n",
              "      <td>6.4</td>\n",
              "      <td>0.31</td>\n",
              "      <td>0.38</td>\n",
              "      <td>2.90</td>\n",
              "      <td>0.038</td>\n",
              "      <td>19.0</td>\n",
              "      <td>102.0</td>\n",
              "      <td>0.9912</td>\n",
              "      <td>3.17</td>\n",
              "      <td>0.35</td>\n",
              "      <td>11.0</td>\n",
              "      <td>7</td>\n",
              "    </tr>\n",
              "    <tr>\n",
              "      <th>22</th>\n",
              "      <td>white</td>\n",
              "      <td>6.8</td>\n",
              "      <td>0.26</td>\n",
              "      <td>0.42</td>\n",
              "      <td>1.70</td>\n",
              "      <td>0.049</td>\n",
              "      <td>41.0</td>\n",
              "      <td>122.0</td>\n",
              "      <td>0.9930</td>\n",
              "      <td>3.47</td>\n",
              "      <td>0.48</td>\n",
              "      <td>10.5</td>\n",
              "      <td>8</td>\n",
              "    </tr>\n",
              "    <tr>\n",
              "      <th>23</th>\n",
              "      <td>white</td>\n",
              "      <td>7.6</td>\n",
              "      <td>0.67</td>\n",
              "      <td>0.14</td>\n",
              "      <td>1.50</td>\n",
              "      <td>0.074</td>\n",
              "      <td>25.0</td>\n",
              "      <td>168.0</td>\n",
              "      <td>0.9937</td>\n",
              "      <td>3.05</td>\n",
              "      <td>0.51</td>\n",
              "      <td>9.3</td>\n",
              "      <td>5</td>\n",
              "    </tr>\n",
              "    <tr>\n",
              "      <th>24</th>\n",
              "      <td>white</td>\n",
              "      <td>6.6</td>\n",
              "      <td>0.27</td>\n",
              "      <td>0.41</td>\n",
              "      <td>1.30</td>\n",
              "      <td>0.052</td>\n",
              "      <td>16.0</td>\n",
              "      <td>142.0</td>\n",
              "      <td>0.9951</td>\n",
              "      <td>3.42</td>\n",
              "      <td>0.47</td>\n",
              "      <td>10.0</td>\n",
              "      <td>6</td>\n",
              "    </tr>\n",
              "  </tbody>\n",
              "</table>\n",
              "</div>\n",
              "      <button class=\"colab-df-convert\" onclick=\"convertToInteractive('df-c5083ec3-1cef-4a9d-957c-5ad2143b31ef')\"\n",
              "              title=\"Convert this dataframe to an interactive table.\"\n",
              "              style=\"display:none;\">\n",
              "        \n",
              "  <svg xmlns=\"http://www.w3.org/2000/svg\" height=\"24px\"viewBox=\"0 0 24 24\"\n",
              "       width=\"24px\">\n",
              "    <path d=\"M0 0h24v24H0V0z\" fill=\"none\"/>\n",
              "    <path d=\"M18.56 5.44l.94 2.06.94-2.06 2.06-.94-2.06-.94-.94-2.06-.94 2.06-2.06.94zm-11 1L8.5 8.5l.94-2.06 2.06-.94-2.06-.94L8.5 2.5l-.94 2.06-2.06.94zm10 10l.94 2.06.94-2.06 2.06-.94-2.06-.94-.94-2.06-.94 2.06-2.06.94z\"/><path d=\"M17.41 7.96l-1.37-1.37c-.4-.4-.92-.59-1.43-.59-.52 0-1.04.2-1.43.59L10.3 9.45l-7.72 7.72c-.78.78-.78 2.05 0 2.83L4 21.41c.39.39.9.59 1.41.59.51 0 1.02-.2 1.41-.59l7.78-7.78 2.81-2.81c.8-.78.8-2.07 0-2.86zM5.41 20L4 18.59l7.72-7.72 1.47 1.35L5.41 20z\"/>\n",
              "  </svg>\n",
              "      </button>\n",
              "      \n",
              "  <style>\n",
              "    .colab-df-container {\n",
              "      display:flex;\n",
              "      flex-wrap:wrap;\n",
              "      gap: 12px;\n",
              "    }\n",
              "\n",
              "    .colab-df-convert {\n",
              "      background-color: #E8F0FE;\n",
              "      border: none;\n",
              "      border-radius: 50%;\n",
              "      cursor: pointer;\n",
              "      display: none;\n",
              "      fill: #1967D2;\n",
              "      height: 32px;\n",
              "      padding: 0 0 0 0;\n",
              "      width: 32px;\n",
              "    }\n",
              "\n",
              "    .colab-df-convert:hover {\n",
              "      background-color: #E2EBFA;\n",
              "      box-shadow: 0px 1px 2px rgba(60, 64, 67, 0.3), 0px 1px 3px 1px rgba(60, 64, 67, 0.15);\n",
              "      fill: #174EA6;\n",
              "    }\n",
              "\n",
              "    [theme=dark] .colab-df-convert {\n",
              "      background-color: #3B4455;\n",
              "      fill: #D2E3FC;\n",
              "    }\n",
              "\n",
              "    [theme=dark] .colab-df-convert:hover {\n",
              "      background-color: #434B5C;\n",
              "      box-shadow: 0px 1px 3px 1px rgba(0, 0, 0, 0.15);\n",
              "      filter: drop-shadow(0px 1px 2px rgba(0, 0, 0, 0.3));\n",
              "      fill: #FFFFFF;\n",
              "    }\n",
              "  </style>\n",
              "\n",
              "      <script>\n",
              "        const buttonEl =\n",
              "          document.querySelector('#df-c5083ec3-1cef-4a9d-957c-5ad2143b31ef button.colab-df-convert');\n",
              "        buttonEl.style.display =\n",
              "          google.colab.kernel.accessAllowed ? 'block' : 'none';\n",
              "\n",
              "        async function convertToInteractive(key) {\n",
              "          const element = document.querySelector('#df-c5083ec3-1cef-4a9d-957c-5ad2143b31ef');\n",
              "          const dataTable =\n",
              "            await google.colab.kernel.invokeFunction('convertToInteractive',\n",
              "                                                     [key], {});\n",
              "          if (!dataTable) return;\n",
              "\n",
              "          const docLinkHtml = 'Like what you see? Visit the ' +\n",
              "            '<a target=\"_blank\" href=https://colab.research.google.com/notebooks/data_table.ipynb>data table notebook</a>'\n",
              "            + ' to learn more about interactive tables.';\n",
              "          element.innerHTML = '';\n",
              "          dataTable['output_type'] = 'display_data';\n",
              "          await google.colab.output.renderOutput(dataTable, element);\n",
              "          const docLink = document.createElement('div');\n",
              "          docLink.innerHTML = docLinkHtml;\n",
              "          element.appendChild(docLink);\n",
              "        }\n",
              "      </script>\n",
              "    </div>\n",
              "  </div>\n",
              "  "
            ]
          },
          "metadata": {},
          "execution_count": 7
        }
      ]
    },
    {
      "cell_type": "code",
      "source": [
        "plt.title(\"LINE PLOT \")\n",
        "\n",
        "x=df.head(25)['alcohol']\n",
        "y=df.head(25)['sulphates']\n",
        "plt.plot(x,y)"
      ],
      "metadata": {
        "colab": {
          "base_uri": "https://localhost:8080/",
          "height": 298
        },
        "id": "6rybOPLto75-",
        "outputId": "20d207ed-577d-4bac-beb5-ccc6d46e0c09"
      },
      "execution_count": null,
      "outputs": [
        {
          "output_type": "execute_result",
          "data": {
            "text/plain": [
              "[<matplotlib.lines.Line2D at 0x7f69db000510>]"
            ]
          },
          "metadata": {},
          "execution_count": 11
        },
        {
          "output_type": "display_data",
          "data": {
            "text/plain": [
              "<Figure size 432x288 with 1 Axes>"
            ],
            "image/png": "[encoded data removed]"
          },
          "metadata": {
            "needs_background": "light"
          }
        }
      ]
    },
    {
      "cell_type": "code",
      "source": [
        "plt.title('SCATTER PLOT')\n",
        "\n",
        "X=df.head(25)['pH']\n",
        "Y=df.head(25)['chlorides']\n",
        "plt.scatter(x,y)"
      ],
      "metadata": {
        "colab": {
          "base_uri": "https://localhost:8080/",
          "height": 298
        },
        "id": "Q6SqfTNOpcKB",
        "outputId": "765eb011-16db-4cfc-8f19-fed071ce6e28"
      },
      "execution_count": null,
      "outputs": [
        {
          "output_type": "execute_result",
          "data": {
            "text/plain": [
              "<matplotlib.collections.PathCollection at 0x7f69d7b4b390>"
            ]
          },
          "metadata": {},
          "execution_count": 15
        },
        {
          "output_type": "display_data",
          "data": {
            "text/plain": [
              "<Figure size 432x288 with 1 Axes>"
            ],
            "image/png": "[encoded data removed]"
          },
          "metadata": {
            "needs_background": "light"
          }
        }
      ]
    },
    {
      "cell_type": "code",
      "source": [
        "plt.title(\"LALIPOP CHART\")\n",
        "X=df.head(50)[\"quality\"]\n",
        "plt.stem(x)"
      ],
      "metadata": {
        "colab": {
          "base_uri": "https://localhost:8080/",
          "height": 353
        },
        "id": "f1Bq-H8vqg7h",
        "outputId": "d2aaac80-9bfb-405c-a5db-0ec95ef4311d"
      },
      "execution_count": null,
      "outputs": [
        {
          "output_type": "stream",
          "name": "stderr",
          "text": [
            "/usr/local/lib/python3.7/dist-packages/ipykernel_launcher.py:3: UserWarning: In Matplotlib 3.3 individual lines on a stem plot will be added as a LineCollection instead of individual lines. This significantly improves the performance of a stem plot. To remove this warning and switch to the new behaviour, set the \"use_line_collection\" keyword argument to True.\n",
            "  This is separate from the ipykernel package so we can avoid doing imports until\n"
          ]
        },
        {
          "output_type": "execute_result",
          "data": {
            "text/plain": [
              "<StemContainer object of 3 artists>"
            ]
          },
          "metadata": {},
          "execution_count": 17
        },
        {
          "output_type": "display_data",
          "data": {
            "text/plain": [
              "<Figure size 432x288 with 1 Axes>"
            ],
            "image/png": "[encoded data removed]"
          },
          "metadata": {
            "needs_background": "light"
          }
        }
      ]
    },
    {
      "cell_type": "code",
      "source": [
        "plt.title(\"BAR CHART\")\n",
        "X=df.head(50)[\"chlorides\"]\n",
        "Y=df.head(50)[\"quality\"]\n",
        "plt.bar(x,y)"
      ],
      "metadata": {
        "colab": {
          "base_uri": "https://localhost:8080/",
          "height": 298
        },
        "id": "-BQcUsdIrfwx",
        "outputId": "e246cb49-5493-49d2-a896-02a0fdda43b7"
      },
      "execution_count": null,
      "outputs": [
        {
          "output_type": "execute_result",
          "data": {
            "text/plain": [
              "<BarContainer object of 25 artists>"
            ]
          },
          "metadata": {},
          "execution_count": 20
        },
        {
          "output_type": "display_data",
          "data": {
            "text/plain": [
              "<Figure size 432x288 with 1 Axes>"
            ],
            "image/png": "[encoded data removed]"
          },
          "metadata": {
            "needs_background": "light"
          }
        }
      ]
    },
    {
      "cell_type": "code",
      "source": [
        "plt.title(\"PIE CHART\")\n",
        "X=df.head(75)['citric acid']\n",
        "Y=df.head(75)[\"residual sugar\"]\n",
        "plt.pie(x,y)"
      ],
      "metadata": {
        "colab": {
          "base_uri": "https://localhost:8080/",
          "height": 1000
        },
        "id": "7S9f5wA0sQr4",
        "outputId": "fa4381e4-5578-4217-b053-cb5fcf671cef"
      },
      "execution_count": null,
      "outputs": [
        {
          "output_type": "execute_result",
          "data": {
            "text/plain": [
              "([<matplotlib.patches.Wedge at 0x7f69d7841c90>,\n",
              "  <matplotlib.patches.Wedge at 0x7f69d784cd10>,\n",
              "  <matplotlib.patches.Wedge at 0x7f69d784ca10>,\n",
              "  <matplotlib.patches.Wedge at 0x7f69d784c190>,\n",
              "  <matplotlib.patches.Wedge at 0x7f69d7838d50>,\n",
              "  <matplotlib.patches.Wedge at 0x7f69d7838090>,\n",
              "  <matplotlib.patches.Wedge at 0x7f69d785a5d0>,\n",
              "  <matplotlib.patches.Wedge at 0x7f69d785a8d0>,\n",
              "  <matplotlib.patches.Wedge at 0x7f69d7838c10>,\n",
              "  <matplotlib.patches.Wedge at 0x7f69d786f790>,\n",
              "  <matplotlib.patches.Wedge at 0x7f69d7841b90>,\n",
              "  <matplotlib.patches.Wedge at 0x7f69d7891910>,\n",
              "  <matplotlib.patches.Wedge at 0x7f69d79e4250>,\n",
              "  <matplotlib.patches.Wedge at 0x7f69d7960250>,\n",
              "  <matplotlib.patches.Wedge at 0x7f69d783ccd0>,\n",
              "  <matplotlib.patches.Wedge at 0x7f69d783cdd0>,\n",
              "  <matplotlib.patches.Wedge at 0x7f69d783c290>,\n",
              "  <matplotlib.patches.Wedge at 0x7f69d7981fd0>,\n",
              "  <matplotlib.patches.Wedge at 0x7f69d784d250>,\n",
              "  <matplotlib.patches.Wedge at 0x7f69d784df90>,\n",
              "  <matplotlib.patches.Wedge at 0x7f69d77f2150>,\n",
              "  <matplotlib.patches.Wedge at 0x7f69d77f2210>,\n",
              "  <matplotlib.patches.Wedge at 0x7f69d77f27d0>,\n",
              "  <matplotlib.patches.Wedge at 0x7f69d77fd2d0>,\n",
              "  <matplotlib.patches.Wedge at 0x7f69d77fd390>],\n",
              " [Text(1.5412459122478182, 0.16450239505670144, ''),\n",
              "  Text(1.505515944616808, 0.5113919636683395, ''),\n",
              "  Text(1.301261103925208, 0.8236015659354647, ''),\n",
              "  Text(1.0386507159074325, 1.08222210767706, ''),\n",
              "  Text(0.752614523894243, 1.2975250974156307, ''),\n",
              "  Text(0.43143288590684536, 1.4783320550397636, ''),\n",
              "  Text(0.0720621334325939, 1.5683453219636112, ''),\n",
              "  Text(-0.27202330762907134, 1.525943419693712, ''),\n",
              "  Text(-0.6155593934777196, 1.4660104478145244, ''),\n",
              "  Text(-0.9321484075918134, 1.2383857824700857, ''),\n",
              "  Text(-1.3238549075260244, 1.0015029624615508, ''),\n",
              "  Text(-1.5104062961658624, 0.6128399632061554, ''),\n",
              "  Text(-1.7136132856463342, 0.23754895759900796, ''),\n",
              "  Text(-1.6035613415147245, -0.2301977932116135, ''),\n",
              "  Text(-1.6235751109566856, -0.7049140792195788, ''),\n",
              "  Text(-1.2988527356762183, -1.017586149191509, ''),\n",
              "  Text(-0.8864572570289501, -1.160083415733847, ''),\n",
              "  Text(-0.5551949278983357, -1.382699747608266, ''),\n",
              "  Text(-0.14751315883392196, -1.6233113897126572, ''),\n",
              "  Text(0.2560219626420318, -1.579383662903008, ''),\n",
              "  Text(0.6213495116321233, -1.3542617119281346, ''),\n",
              "  Text(0.9536341429621871, -1.092282894389899, ''),\n",
              "  Text(1.3099979964546722, -0.8833488831060718, ''),\n",
              "  Text(1.5101511317943912, -0.5581608720970324, ''),\n",
              "  Text(1.558552940341193, -0.18924252205522207, '')])"
            ]
          },
          "metadata": {},
          "execution_count": 21
        },
        {
          "output_type": "display_data",
          "data": {
            "text/plain": [
              "<Figure size 432x288 with 1 Axes>"
            ],
            "image/png": "[encoded data removed]"
          },
          "metadata": {}
        }
      ]
    },
    {
      "cell_type": "code",
      "source": [
        "import seaborn as sns\n",
        "\n",
        "plt.title(\"SEABORN\")\n",
        "x=df.head(75)[\"volatile acidity\"]\n",
        "y=df.head(75)[\"fixed acidity\"]\n",
        "sns.regplot(x, y)"
      ],
      "metadata": {
        "colab": {
          "base_uri": "https://localhost:8080/",
          "height": 367
        },
        "id": "i2xF0e3-s-RZ",
        "outputId": "045bc866-ba6f-4ca6-857a-d7ebba854947"
      },
      "execution_count": null,
      "outputs": [
        {
          "output_type": "stream",
          "name": "stderr",
          "text": [
            "/usr/local/lib/python3.7/dist-packages/seaborn/_decorators.py:43: FutureWarning: Pass the following variables as keyword args: x, y. From version 0.12, the only valid positional argument will be `data`, and passing other arguments without an explicit keyword will result in an error or misinterpretation.\n",
            "  FutureWarning\n"
          ]
        },
        {
          "output_type": "execute_result",
          "data": {
            "text/plain": [
              "<matplotlib.axes._subplots.AxesSubplot at 0x7f69cb542410>"
            ]
          },
          "metadata": {},
          "execution_count": 30
        },
        {
          "output_type": "display_data",
          "data": {
            "text/plain": [
              "<Figure size 432x288 with 1 Axes>"
            ],
            "image/png": "[encoded data removed]"
          },
          "metadata": {
            "needs_background": "light"
          }
        }
      ]
    },
    {
      "cell_type": "code",
      "source": [
        "plt.title(\"BOX PLOT\")\n",
        "x=df.head(75)[\"density\"]\n",
        "plt.boxplot(x)"
      ],
      "metadata": {
        "colab": {
          "base_uri": "https://localhost:8080/",
          "height": 420
        },
        "id": "PROJ46lfvRH_",
        "outputId": "41c73653-3f7b-40fe-dc1d-5bafc9bcf95a"
      },
      "execution_count": null,
      "outputs": [
        {
          "output_type": "execute_result",
          "data": {
            "text/plain": [
              "{'whiskers': [<matplotlib.lines.Line2D at 0x7f69cb415a90>,\n",
              "  <matplotlib.lines.Line2D at 0x7f69cb337490>],\n",
              " 'caps': [<matplotlib.lines.Line2D at 0x7f69cb337950>,\n",
              "  <matplotlib.lines.Line2D at 0x7f69cb3371d0>],\n",
              " 'boxes': [<matplotlib.lines.Line2D at 0x7f69cb415490>],\n",
              " 'medians': [<matplotlib.lines.Line2D at 0x7f69cb40e250>],\n",
              " 'fliers': [<matplotlib.lines.Line2D at 0x7f69cb40e490>],\n",
              " 'means': []}"
            ]
          },
          "metadata": {},
          "execution_count": 48
        },
        {
          "output_type": "display_data",
          "data": {
            "text/plain": [
              "<Figure size 432x288 with 1 Axes>"
            ],
            "image/png": "[encoded data removed]"
          },
          "metadata": {
            "needs_background": "light"
          }
        }
      ]
    },
    {
      "cell_type": "code",
      "source": [
        "arr1  =df.head(75) [\"sulphates\"]\n",
        "arr2  = df.head(75)[\"density\"]\n",
        "arr3  = df.head(75)[\"pH\"]\n",
        "\n",
        "plt.plot([], [], color='r', label = 'D 1')\n",
        "plt.plot([], [], color='g', label = 'D 2')\n",
        "plt.plot([], [], color='b', label = 'D 3')\n",
        "\n",
        "plt.stackplot( arr1, arr2, arr3, colors= ['r', 'g', 'b'])\n",
        "plt.title('Stack Plot Example')\n",
        "plt.legend()\n",
        "plt.show()"
      ],
      "metadata": {
        "colab": {
          "base_uri": "https://localhost:8080/",
          "height": 281
        },
        "id": "cOjpXGO3wvSr",
        "outputId": "88858541-a290-4e5a-bd61-3d075bcc65fd"
      },
      "execution_count": null,
      "outputs": [
        {
          "output_type": "display_data",
          "data": {
            "text/plain": [
              "<Figure size 432x288 with 1 Axes>"
            ],
            "image/png": "[encoded data removed]"
          },
          "metadata": {
            "needs_background": "light"
          }
        }
      ]
    }
  ]
}